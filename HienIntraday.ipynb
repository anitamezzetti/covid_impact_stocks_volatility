{
 "cells": [
  {
   "cell_type": "code",
   "execution_count": 9,
   "metadata": {},
   "outputs": [],
   "source": [
    "import pandas as pd\n",
    "import numpy as np\n",
    "\n",
    "import glob"
   ]
  },
  {
   "cell_type": "code",
   "execution_count": 11,
   "metadata": {},
   "outputs": [],
   "source": [
    "# TODO: download daily open and close for each index\n",
    "\n",
    "#jpn_opens = pd.read_csv(\"datasets_stocks/....csv\")\n",
    "#jpn_closes = pd.read_csv(\"datasets_stocks/....csv\")\n",
    "\n",
    "intraday_root = \"datasets_stocks/intraday\"\n",
    "jpn_path =f\"{intraday_root}/JPNIDX\""
   ]
  },
  {
   "cell_type": "code",
   "execution_count": 12,
   "metadata": {},
   "outputs": [],
   "source": [
    "def process_intraday_data(path):\n",
    "\n",
    "    df = pd.DataFrame()\n",
    "\n",
    "    for file in sorted(glob.glob(f\"{path}/*.json\")):\n",
    "        df_month = pd.read_json(file)\n",
    "        df = pd.concat([df, df_month])\n",
    "\n",
    "    df = df.set_index(\"timestamp\")\n",
    "    \n",
    "    return df"
   ]
  },
  {
   "cell_type": "code",
   "execution_count": 8,
   "metadata": {},
   "outputs": [],
   "source": [
    "def calculate_annualised_rv(opens, closes, intraday): # rv = realised variance\n",
    "    \n",
    "    # 1. calculate j_t: diff between closing on day t-1 and opening on day t\n",
    "    \n",
    "    # j_t = 100*(ln(P_t_open) - ln(P_{t-1}_close))\n",
    "    j = 100*np.log(opens.iloc[1:] / closes.shift(1).iloc[1:])\n",
    "    #j = j[j.index <= \"2020-12-01\"] # truncate\n",
    "    \n",
    "    # 2. continuous return within a day\n",
    "    # r_{i,t} = 100*(ln(P_{i,t}) - ln(P_{i,t-1}))\n",
    "    # we want R_t = sum(r_{i,t}^2)\n",
    "\n",
    "    intraday.index = pd.DatetimeIndex(intraday.index)\n",
    "    dates_avail = sorted(list(set(intraday.index.date)),reverse=True) # <= unique dates available in data\n",
    "    R = pd.DataFrame(index=dates_avail, columns=[\"R\"])\n",
    "\n",
    "    for date in dates_avail:\n",
    "        prices = intraday[intraday.index.date == date].copy()[\"close\"] # prices observed on this date\n",
    "        rs = 100*np.log(prices.iloc[1:]/prices.shift(1).iloc[1:])# all the rs calculated on this date\n",
    "        R.loc[date][\"R\"] = sum(rs**2)\n",
    "    R.index = pd.DatetimeIndex(R.index)   \n",
    "    \n",
    "    # 3. Annualised daily variance RV (return variance)\n",
    "    # RV_t = 252*(j_t^2 + R_t)\n",
    "\n",
    "    merged = pd.merge(j, R, how=\"inner\", left_index=True, right_index=True)\n",
    "    merged.columns = [\"j\", \"R\"]\n",
    "\n",
    "    merged[\"RV\"] = 252*(merged[\"j\"]**2 + merged[\"R\"])\n",
    "    \n",
    "    return merged"
   ]
  },
  {
   "cell_type": "code",
   "execution_count": null,
   "metadata": {},
   "outputs": [],
   "source": []
  }
 ],
 "metadata": {
  "kernelspec": {
   "display_name": "Python 3",
   "language": "python",
   "name": "python3"
  },
  "language_info": {
   "codemirror_mode": {
    "name": "ipython",
    "version": 3
   },
   "file_extension": ".py",
   "mimetype": "text/x-python",
   "name": "python",
   "nbconvert_exporter": "python",
   "pygments_lexer": "ipython3",
   "version": "3.6.6"
  }
 },
 "nbformat": 4,
 "nbformat_minor": 2
}
