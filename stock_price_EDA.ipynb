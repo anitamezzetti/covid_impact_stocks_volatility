{
 "cells": [
  {
   "cell_type": "code",
   "execution_count": 1,
   "metadata": {},
   "outputs": [],
   "source": [
    "import pandas as pd\n",
    "import pandas_datareader as web\n",
    "import datetime as dt\n",
    "import yfinance as yf\n",
    "import numpy as np"
   ]
  },
  {
   "cell_type": "code",
   "execution_count": 2,
   "metadata": {},
   "outputs": [],
   "source": [
    "start = dt.datetime(2020, 1, 1)"
   ]
  },
  {
   "cell_type": "markdown",
   "metadata": {},
   "source": [
    "### Japan"
   ]
  },
  {
   "cell_type": "code",
   "execution_count": 21,
   "metadata": {},
   "outputs": [],
   "source": [
    "stocks_japan = ['TM', 'MSBHY', 'HMC', '1JP.F', 'NPEXY', 'ITOCY', 'NSANY', 'SFTBY', 'HTHIY', 'JXHLY', \\\n",
    "                'SNE','AONNY', 'PCRFY', 'MARUY', 'DCNSF', 'MITSY', 'SVNDY', 'TYHOF', 'MUFG', 'TOELY', \\\n",
    "                'NISTF', 'SMFG', 'MSADY', 'TKOMY', 'DNZOY', 'SOMMY', 'KDDIY', 'MIELY', 'DWAHY', 'MHVYF', \\\n",
    "                'ASEKY', 'CAJ', 'FJTSY', 'MFG', 'MTLHY', 'IDKOY', 'JFEEF', 'SZKMY', 'TOSBF', 'BRDCY', \\\n",
    "                'NHOLF', 'SSUMY', 'MZDAY', 'KAEPY', 'MAHLY', 'SMTOF', 'FUJHY', 'CHUEF', 'EJPRY', 'NEC1.F']     \n",
    "\n",
    "\n",
    "start = dt.datetime(2020, 1, 1)\n",
    "d = web.DataReader(stocks_japan, 'yahoo', start)\n",
    "\n",
    "\n",
    "d.to_csv('japan_stocks.csv')"
   ]
  },
  {
   "cell_type": "code",
   "execution_count": 22,
   "metadata": {},
   "outputs": [
    {
     "data": {
      "text/plain": [
       "50"
      ]
     },
     "execution_count": 22,
     "metadata": {},
     "output_type": "execute_result"
    }
   ],
   "source": [
    "len(stocks_japan)"
   ]
  },
  {
   "cell_type": "code",
   "execution_count": 23,
   "metadata": {},
   "outputs": [],
   "source": [
    "stocks_japan_10 = stocks_japan[:10]"
   ]
  },
  {
   "cell_type": "code",
   "execution_count": null,
   "metadata": {},
   "outputs": [],
   "source": []
  }
 ],
 "metadata": {
  "kernelspec": {
   "display_name": "fbd",
   "language": "python",
   "name": "fbd"
  },
  "language_info": {
   "codemirror_mode": {
    "name": "ipython",
    "version": 3
   },
   "file_extension": ".py",
   "mimetype": "text/x-python",
   "name": "python",
   "nbconvert_exporter": "python",
   "pygments_lexer": "ipython3",
   "version": "3.8.5"
  }
 },
 "nbformat": 4,
 "nbformat_minor": 4
}
