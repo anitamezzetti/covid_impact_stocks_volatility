{
 "cells": [
  {
   "cell_type": "code",
   "execution_count": 3,
   "metadata": {},
   "outputs": [],
   "source": [
    "import pandas as pd\n",
    "import datetime as dt\n",
    "import numpy as np\n",
    "from importlib import reload "
   ]
  },
  {
   "cell_type": "code",
   "execution_count": 4,
   "metadata": {},
   "outputs": [],
   "source": [
    "# import tickers\n",
    "import tickers\n",
    "reload(tickers)\n",
    "from tickers import japan_tickers, china_tickers, us_tickers, ticker_id, swiss_tickers\n",
    "\n",
    "import stock_analysis_functions\n",
    "reload(stock_analysis_functions)\n",
    "from stock_analysis_functions import returns, data_from_yahoo"
   ]
  },
  {
   "cell_type": "code",
   "execution_count": 5,
   "metadata": {},
   "outputs": [],
   "source": [
    "country_names = ['China', 'USA', 'Japan', 'Switzerland']\n",
    "\n",
    "start = dt.datetime(2020, 1, 1)\n",
    "end = dt.datetime(2020, 12, 1)"
   ]
  },
  {
   "cell_type": "code",
   "execution_count": 6,
   "metadata": {},
   "outputs": [],
   "source": [
    "datasets_chn = data_from_yahoo(china_tickers, ticker_id, start, end, 'china', read=True)\n",
    "datasets_us = data_from_yahoo(us_tickers, ticker_id, start, end, 'usa', read=True)\n",
    "datasets_jpn = data_from_yahoo(japan_tickers, ticker_id, start, end, 'japan', read=True)\n",
    "datasets_swiss = data_from_yahoo(swiss_tickers, ticker_id, start, end, 'swiss', read=True)\n",
    "\n",
    "adj_close = {'China':datasets_chn['adj_close'], 'USA':datasets_us['adj_close'], 'Japan':datasets_jpn['adj_close'], 'Switzerland':datasets_swiss['adj_close']}"
   ]
  },
  {
   "cell_type": "code",
   "execution_count": 7,
   "metadata": {},
   "outputs": [],
   "source": [
    "index = adj_close['China']['Date'] "
   ]
  },
  {
   "cell_type": "code",
   "execution_count": 9,
   "metadata": {},
   "outputs": [],
   "source": [
    "df_return_china = returns(adj_close['China'].columns, adj_close['China'], index, 'China', True, True)\n",
    "df_return_usa = returns(adj_close['USA'].columns, adj_close['USA'], index, 'USA', True, True)\n",
    "df_return_japan = returns(adj_close['Japan'].columns, adj_close['Japan'], index, 'Japan', True, True)\n",
    "df_return_swiss = returns(adj_close['Switzerland'].columns, adj_close['Switzerland'], index, 'Switzerland', True, True)\n",
    "\n",
    "df_returns = {'China':df_return_china, 'USA':df_return_usa, 'Japan':df_return_japan, 'Switzerland':df_return_swiss}"
   ]
  },
  {
   "cell_type": "markdown",
   "metadata": {},
   "source": [
    "## CHINA  <a class=\"anchor\" id=\"china\"></a>"
   ]
  },
  {
   "cell_type": "code",
   "execution_count": 10,
   "metadata": {},
   "outputs": [],
   "source": [
    "country = 'China'"
   ]
  },
  {
   "cell_type": "code",
   "execution_count": 11,
   "metadata": {},
   "outputs": [
    {
     "data": {
      "text/html": [
       "<div>\n",
       "<style scoped>\n",
       "    .dataframe tbody tr th:only-of-type {\n",
       "        vertical-align: middle;\n",
       "    }\n",
       "\n",
       "    .dataframe tbody tr th {\n",
       "        vertical-align: top;\n",
       "    }\n",
       "\n",
       "    .dataframe thead th {\n",
       "        text-align: right;\n",
       "    }\n",
       "</style>\n",
       "<table border=\"1\" class=\"dataframe\">\n",
       "  <thead>\n",
       "    <tr style=\"text-align: right;\">\n",
       "      <th></th>\n",
       "      <th>TCEHY</th>\n",
       "      <th>BABA</th>\n",
       "      <th>MOUTAI</th>\n",
       "      <th>1398.HK</th>\n",
       "      <th>PNGAY</th>\n",
       "      <th>PDD</th>\n",
       "      <th>CICHY</th>\n",
       "      <th>3968.HK</th>\n",
       "      <th>ACGBY</th>\n",
       "      <th>JD</th>\n",
       "      <th>...</th>\n",
       "      <th>WXXWY</th>\n",
       "      <th>600309.SS</th>\n",
       "      <th>2202.HK</th>\n",
       "      <th>601633.SS</th>\n",
       "      <th>300015.SZ</th>\n",
       "      <th>600887.SS</th>\n",
       "      <th>BKFCF</th>\n",
       "      <th>AS7.F</th>\n",
       "      <th>6862.HK</th>\n",
       "      <th>300059.SZ</th>\n",
       "    </tr>\n",
       "    <tr>\n",
       "      <th>Date</th>\n",
       "      <th></th>\n",
       "      <th></th>\n",
       "      <th></th>\n",
       "      <th></th>\n",
       "      <th></th>\n",
       "      <th></th>\n",
       "      <th></th>\n",
       "      <th></th>\n",
       "      <th></th>\n",
       "      <th></th>\n",
       "      <th></th>\n",
       "      <th></th>\n",
       "      <th></th>\n",
       "      <th></th>\n",
       "      <th></th>\n",
       "      <th></th>\n",
       "      <th></th>\n",
       "      <th></th>\n",
       "      <th></th>\n",
       "      <th></th>\n",
       "      <th></th>\n",
       "    </tr>\n",
       "  </thead>\n",
       "  <tbody>\n",
       "    <tr>\n",
       "      <th>2020-01-02</th>\n",
       "      <td>NaN</td>\n",
       "      <td>NaN</td>\n",
       "      <td>NaN</td>\n",
       "      <td>NaN</td>\n",
       "      <td>NaN</td>\n",
       "      <td>NaN</td>\n",
       "      <td>NaN</td>\n",
       "      <td>NaN</td>\n",
       "      <td>NaN</td>\n",
       "      <td>NaN</td>\n",
       "      <td>...</td>\n",
       "      <td>NaN</td>\n",
       "      <td>NaN</td>\n",
       "      <td>NaN</td>\n",
       "      <td>NaN</td>\n",
       "      <td>NaN</td>\n",
       "      <td>NaN</td>\n",
       "      <td>NaN</td>\n",
       "      <td>NaN</td>\n",
       "      <td>NaN</td>\n",
       "      <td>NaN</td>\n",
       "    </tr>\n",
       "    <tr>\n",
       "      <th>2020-01-03</th>\n",
       "      <td>-1.704096</td>\n",
       "      <td>-1.260411</td>\n",
       "      <td>-4.552203</td>\n",
       "      <td>-0.826445</td>\n",
       "      <td>-0.370216</td>\n",
       "      <td>-0.824643</td>\n",
       "      <td>-2.328221</td>\n",
       "      <td>0.121217</td>\n",
       "      <td>-1.160716</td>\n",
       "      <td>0.689112</td>\n",
       "      <td>...</td>\n",
       "      <td>0.204510</td>\n",
       "      <td>1.878690</td>\n",
       "      <td>-2.911204</td>\n",
       "      <td>-0.326084</td>\n",
       "      <td>-0.278480</td>\n",
       "      <td>-0.031497</td>\n",
       "      <td>0.0</td>\n",
       "      <td>-1.243900</td>\n",
       "      <td>2.318386</td>\n",
       "      <td>0.628935</td>\n",
       "    </tr>\n",
       "    <tr>\n",
       "      <th>2020-01-06</th>\n",
       "      <td>-0.530282</td>\n",
       "      <td>-0.165899</td>\n",
       "      <td>-0.052854</td>\n",
       "      <td>-1.166668</td>\n",
       "      <td>0.289024</td>\n",
       "      <td>-1.956467</td>\n",
       "      <td>-0.465116</td>\n",
       "      <td>-0.968520</td>\n",
       "      <td>-0.813006</td>\n",
       "      <td>0.026318</td>\n",
       "      <td>...</td>\n",
       "      <td>-3.592189</td>\n",
       "      <td>-3.055843</td>\n",
       "      <td>-1.349316</td>\n",
       "      <td>-2.290075</td>\n",
       "      <td>-2.157905</td>\n",
       "      <td>-2.047885</td>\n",
       "      <td>0.0</td>\n",
       "      <td>-0.963195</td>\n",
       "      <td>-2.265855</td>\n",
       "      <td>0.937492</td>\n",
       "    </tr>\n",
       "    <tr>\n",
       "      <th>2020-01-07</th>\n",
       "      <td>2.070939</td>\n",
       "      <td>0.456982</td>\n",
       "      <td>1.534335</td>\n",
       "      <td>-0.337271</td>\n",
       "      <td>-0.452867</td>\n",
       "      <td>2.793711</td>\n",
       "      <td>-1.168230</td>\n",
       "      <td>-0.122254</td>\n",
       "      <td>-0.819670</td>\n",
       "      <td>0.842104</td>\n",
       "      <td>...</td>\n",
       "      <td>3.993570</td>\n",
       "      <td>-0.760872</td>\n",
       "      <td>0.607896</td>\n",
       "      <td>2.120529</td>\n",
       "      <td>1.686559</td>\n",
       "      <td>3.409461</td>\n",
       "      <td>0.0</td>\n",
       "      <td>6.857844</td>\n",
       "      <td>3.554867</td>\n",
       "      <td>-0.061918</td>\n",
       "    </tr>\n",
       "    <tr>\n",
       "      <th>2020-01-08</th>\n",
       "      <td>-0.261146</td>\n",
       "      <td>0.170011</td>\n",
       "      <td>-0.583807</td>\n",
       "      <td>-1.184426</td>\n",
       "      <td>-0.330858</td>\n",
       "      <td>-1.722881</td>\n",
       "      <td>0.236401</td>\n",
       "      <td>-2.325578</td>\n",
       "      <td>-0.367304</td>\n",
       "      <td>-0.052193</td>\n",
       "      <td>...</td>\n",
       "      <td>-0.153577</td>\n",
       "      <td>-0.967508</td>\n",
       "      <td>-0.604223</td>\n",
       "      <td>-1.857923</td>\n",
       "      <td>-0.969630</td>\n",
       "      <td>0.124408</td>\n",
       "      <td>0.0</td>\n",
       "      <td>-2.683773</td>\n",
       "      <td>1.343291</td>\n",
       "      <td>-3.717463</td>\n",
       "    </tr>\n",
       "  </tbody>\n",
       "</table>\n",
       "<p>5 rows × 48 columns</p>\n",
       "</div>"
      ],
      "text/plain": [
       "               TCEHY      BABA    MOUTAI   1398.HK     PNGAY       PDD  \\\n",
       "Date                                                                     \n",
       "2020-01-02       NaN       NaN       NaN       NaN       NaN       NaN   \n",
       "2020-01-03 -1.704096 -1.260411 -4.552203 -0.826445 -0.370216 -0.824643   \n",
       "2020-01-06 -0.530282 -0.165899 -0.052854 -1.166668  0.289024 -1.956467   \n",
       "2020-01-07  2.070939  0.456982  1.534335 -0.337271 -0.452867  2.793711   \n",
       "2020-01-08 -0.261146  0.170011 -0.583807 -1.184426 -0.330858 -1.722881   \n",
       "\n",
       "               CICHY   3968.HK     ACGBY        JD  ...     WXXWY  600309.SS  \\\n",
       "Date                                                ...                        \n",
       "2020-01-02       NaN       NaN       NaN       NaN  ...       NaN        NaN   \n",
       "2020-01-03 -2.328221  0.121217 -1.160716  0.689112  ...  0.204510   1.878690   \n",
       "2020-01-06 -0.465116 -0.968520 -0.813006  0.026318  ... -3.592189  -3.055843   \n",
       "2020-01-07 -1.168230 -0.122254 -0.819670  0.842104  ...  3.993570  -0.760872   \n",
       "2020-01-08  0.236401 -2.325578 -0.367304 -0.052193  ... -0.153577  -0.967508   \n",
       "\n",
       "             2202.HK  601633.SS  300015.SZ  600887.SS  BKFCF     AS7.F  \\\n",
       "Date                                                                     \n",
       "2020-01-02       NaN        NaN        NaN        NaN    NaN       NaN   \n",
       "2020-01-03 -2.911204  -0.326084  -0.278480  -0.031497    0.0 -1.243900   \n",
       "2020-01-06 -1.349316  -2.290075  -2.157905  -2.047885    0.0 -0.963195   \n",
       "2020-01-07  0.607896   2.120529   1.686559   3.409461    0.0  6.857844   \n",
       "2020-01-08 -0.604223  -1.857923  -0.969630   0.124408    0.0 -2.683773   \n",
       "\n",
       "             6862.HK  300059.SZ  \n",
       "Date                             \n",
       "2020-01-02       NaN        NaN  \n",
       "2020-01-03  2.318386   0.628935  \n",
       "2020-01-06 -2.265855   0.937492  \n",
       "2020-01-07  3.554867  -0.061918  \n",
       "2020-01-08  1.343291  -3.717463  \n",
       "\n",
       "[5 rows x 48 columns]"
      ]
     },
     "execution_count": 11,
     "metadata": {},
     "output_type": "execute_result"
    }
   ],
   "source": [
    "df_returns[country].head()"
   ]
  },
  {
   "cell_type": "markdown",
   "metadata": {},
   "source": [
    "### EQUALLY WEIGHTED"
   ]
  },
  {
   "cell_type": "code",
   "execution_count": 13,
   "metadata": {},
   "outputs": [],
   "source": [
    "df_returns[country] = df_returns[country].iloc[1:] # ignore first row\n",
    "ew_portfolio = df_returns[country].mean(axis=1).values"
   ]
  },
  {
   "cell_type": "markdown",
   "metadata": {},
   "source": []
  },
  {
   "cell_type": "markdown",
   "metadata": {},
   "source": [
    "### VALUE WEIGHTED\n"
   ]
  },
  {
   "cell_type": "code",
   "execution_count": 14,
   "metadata": {},
   "outputs": [],
   "source": [
    "# steps to find it....."
   ]
  },
  {
   "cell_type": "code",
   "execution_count": 15,
   "metadata": {},
   "outputs": [],
   "source": [
    "# vw_portfolio = result here so we can build the dataframe :)"
   ]
  },
  {
   "cell_type": "code",
   "execution_count": 20,
   "metadata": {},
   "outputs": [],
   "source": [
    "# build dataframe\n",
    "df_portfolio = pd.DataFrame(index=df_returns[country].index)\n",
    "df_portfolio['EW'] = ew_portfolio\n",
    "#df_portfolio['VW'] = vw_portfolio"
   ]
  },
  {
   "cell_type": "code",
   "execution_count": 21,
   "metadata": {},
   "outputs": [],
   "source": [
    "df_portfolio.to_csv(f'datasets/{country}_portfolio.csv')"
   ]
  },
  {
   "cell_type": "markdown",
   "metadata": {},
   "source": [
    "## USA  <a class=\"anchor\" id=\"usa\"></a>"
   ]
  },
  {
   "cell_type": "code",
   "execution_count": null,
   "metadata": {},
   "outputs": [],
   "source": []
  },
  {
   "cell_type": "markdown",
   "metadata": {},
   "source": [
    "## JAPAN  <a class=\"anchor\" id=\"japan\"></a>"
   ]
  },
  {
   "cell_type": "code",
   "execution_count": null,
   "metadata": {},
   "outputs": [],
   "source": []
  },
  {
   "cell_type": "markdown",
   "metadata": {},
   "source": [
    "## SWITZERLAND  <a class=\"anchor\" id=\"swiis\"></a>"
   ]
  },
  {
   "cell_type": "code",
   "execution_count": null,
   "metadata": {},
   "outputs": [],
   "source": []
  },
  {
   "cell_type": "code",
   "execution_count": null,
   "metadata": {},
   "outputs": [],
   "source": []
  },
  {
   "cell_type": "code",
   "execution_count": null,
   "metadata": {},
   "outputs": [],
   "source": []
  }
 ],
 "metadata": {
  "kernelspec": {
   "display_name": "fbd",
   "language": "python",
   "name": "fbd"
  },
  "language_info": {
   "codemirror_mode": {
    "name": "ipython",
    "version": 3
   },
   "file_extension": ".py",
   "mimetype": "text/x-python",
   "name": "python",
   "nbconvert_exporter": "python",
   "pygments_lexer": "ipython3",
   "version": "3.8.5"
  }
 },
 "nbformat": 4,
 "nbformat_minor": 4
}
