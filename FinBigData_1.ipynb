{
  "nbformat": 4,
  "nbformat_minor": 0,
  "metadata": {
    "colab": {
      "name": "FinBigData_1.ipynb",
      "provenance": [],
      "collapsed_sections": [],
      "authorship_tag": "ABX9TyOMffLWGSEgJY7mCIatq3eA",
      "include_colab_link": true
    },
    "kernelspec": {
      "name": "python3",
      "display_name": "Python 3"
    }
  },
  "cells": [
    {
      "cell_type": "markdown",
      "metadata": {
        "id": "view-in-github",
        "colab_type": "text"
      },
      "source": [
        "<a href=\"https://colab.research.google.com/github/anitamezzetti/financial_big_data/blob/main/FinBigData_1.ipynb\" target=\"_parent\"><img src=\"https://colab.research.google.com/assets/colab-badge.svg\" alt=\"Open In Colab\"/></a>"
      ]
    },
    {
      "cell_type": "code",
      "metadata": {
        "id": "itomqEMlBhuX"
      },
      "source": [
        "student1 = \"Anita Mezzetti\"\n",
        "student2 = \"Hien Lê\""
      ],
      "execution_count": 1,
      "outputs": []
    },
    {
      "cell_type": "code",
      "metadata": {
        "id": "qWn0DHXKCM2X"
      },
      "source": [
        "import numpy as np\n",
        "import pandas as pd\n",
        "import matplotlib.pyplot as plt\n",
        "\n",
        "# other libraries here\n",
        "# ..."
      ],
      "execution_count": 6,
      "outputs": []
    },
    {
      "cell_type": "markdown",
      "metadata": {
        "id": "aJFZbKn-CF9T"
      },
      "source": [
        "Complementary stuff:\n",
        "* Tensorboard loading\n",
        "* Drive Folder to save data, notebooks and models"
      ]
    },
    {
      "cell_type": "code",
      "metadata": {
        "id": "86LfRnU5Bxfq"
      },
      "source": [
        "%load_ext tensorboard"
      ],
      "execution_count": 2,
      "outputs": []
    },
    {
      "cell_type": "code",
      "metadata": {
        "colab": {
          "base_uri": "https://localhost:8080/"
        },
        "id": "0lGv-gIcB09N",
        "outputId": "af77a1de-5016-4f4e-b582-f348c12da1a6"
      },
      "source": [
        "from google.colab import drive\n",
        "drive.mount('/content/drive') # make sure to add the .npy files to the Colab Notebooks folder first"
      ],
      "execution_count": 3,
      "outputs": [
        {
          "output_type": "stream",
          "text": [
            "Mounted at /content/drive\n"
          ],
          "name": "stdout"
        }
      ]
    },
    {
      "cell_type": "code",
      "metadata": {
        "colab": {
          "base_uri": "https://localhost:8080/"
        },
        "id": "J54RdKYOB5qo",
        "outputId": "2c5be9e6-3846-406e-ccce-ec423bba50d0"
      },
      "source": [
        "!ls \"/content/drive/My Drive/Colab Notebooks\" # checking the content of the folder"
      ],
      "execution_count": 4,
      "outputs": [
        {
          "output_type": "stream",
          "text": [
            "FinBigData_1.ipynb\n"
          ],
          "name": "stdout"
        }
      ]
    },
    {
      "cell_type": "code",
      "metadata": {
        "id": "8rmJFUxjCBbF"
      },
      "source": [
        "root = \"/content/drive/My Drive/Colab Notebooks\" # define name of folder"
      ],
      "execution_count": 5,
      "outputs": []
    },
    {
      "cell_type": "code",
      "metadata": {
        "id": "RRQc9VODCD1y"
      },
      "source": [
        ""
      ],
      "execution_count": null,
      "outputs": []
    }
  ]
}