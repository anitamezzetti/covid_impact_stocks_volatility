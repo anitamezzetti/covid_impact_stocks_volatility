{
 "cells": [
  {
   "cell_type": "markdown",
   "metadata": {},
   "source": [
    "# Granger Causality Comparison Covid and Portfolios\n",
    "\n",
    "Table of context:\n",
    "- [China](#chinag)\n",
    "- [USA](#usag)\n",
    "- [Japan](#japang)\n",
    "- [Switzerland](#swissg)\n"
   ]
  },
  {
   "cell_type": "code",
   "execution_count": null,
   "metadata": {
    "id": "s7w4JT6t0U5z"
   },
   "outputs": [],
   "source": [
    "%load_ext autoreload\r\n",
    "%autoreload 2"
   ]
  },
  {
   "cell_type": "code",
   "execution_count": null,
   "metadata": {
    "id": "SGvAuvUvKERz"
   },
   "outputs": [],
   "source": [
    "student1 = \"Anita Mezzetti\"\n",
    "student2 = \"Hien Lê\""
   ]
  },
  {
   "cell_type": "markdown",
   "metadata": {
    "id": "41YwrynXKERz"
   },
   "source": [
    "Complementary stuff:\n",
    "* Drive Folder to save data, notebooks and models\n",
    "\n",
    "Note: project has been linked to [Github](https://github.com/anitamezzetti/financial_big_data)!"
   ]
  },
  {
   "cell_type": "code",
   "execution_count": null,
   "metadata": {
    "colab": {
     "base_uri": "https://localhost:8080/"
    },
    "id": "01EzeKcIKER1",
    "outputId": "c8fbb746-41a4-429c-c056-fac0ca63e295"
   },
   "outputs": [
    {
     "name": "stdout",
     "output_type": "stream",
     "text": [
      "Drive already mounted at /content/drive; to attempt to forcibly remount, call drive.mount(\"/content/drive\", force_remount=True).\n"
     ]
    }
   ],
   "source": [
    "from google.colab import drive\n",
    "import os, sys\n",
    "\n",
    "drive.mount('/content/drive')\n",
    "#nb_path = '/content/notebooks2'\n",
    "#os.symlink('/content/drive/My Drive/Colab Notebooks', nb_path)\n",
    "#sys.path.insert(0,nb_path)\n",
    "\n",
    "#!pip install --target=$nb_path arrow"
   ]
  },
  {
   "cell_type": "code",
   "execution_count": null,
   "metadata": {
    "colab": {
     "base_uri": "https://localhost:8080/"
    },
    "id": "wemmqNz3KER3",
    "outputId": "f5d80417-d148-4388-bbdb-c47e81c5e404"
   },
   "outputs": [
    {
     "name": "stdout",
     "output_type": "stream",
     "text": [
      " AnitaVersion_FinBigData_1.ipynb\n",
      " arrow\n",
      " arrow-0.17.0.dist-info\n",
      " AUS.csv\n",
      " AUT.csv\n",
      " BEL.csv\n",
      " BRA.csv\n",
      " CAN.csv\n",
      " CHE.csv\n",
      " CHN.csv\n",
      " classification_3.ipynb\n",
      "'classification_4 (1).ipynb'\n",
      " classification_4.ipynb\n",
      " classification.ipynb\n",
      " closed_form_solution.ipynb\n",
      "'complete_mc (1).ipynb'\n",
      "'complete_mc (2).ipynb'\n",
      " complete_mc.ipynb\n",
      "'Copia di mc.ipynb'\n",
      " CZE.csv\n",
      " dateutil\n",
      " DEU.csv\n",
      " DNK.csv\n",
      " ESP.csv\n",
      " FIN.csv\n",
      " FRA.csv\n",
      " GBR.csv\n",
      " generate_dataset_dataset4.ipynb\n",
      " generate_dataset_fixedK_movingS0.ipynb\n",
      " generate_dataset.ipynb\n",
      " GHA.csv\n",
      "'granger_causality_covid (1).ipynb'\n",
      " granger_causality_covid.ipynb\n",
      " granger_causality_japan.ipynb\n",
      "'granger_causality_many_cuntries (1).ipynb'\n",
      " granger_causality_many_cuntries.ipynb\n",
      " GRC.csv\n",
      "'Heston_Project (1).ipynb'\n",
      "'Heston_Project (2).ipynb'\n",
      " Heston_Project.ipynb\n",
      " HienCovidDataRetrieval.ipynb\n",
      " HRV.csv\n",
      " IRL.csv\n",
      " ITA.csv\n",
      " JPN.csv\n",
      " NLD.csv\n",
      " notebooks2\n",
      " NZL.csv\n",
      " POL.csv\n",
      " PRT.csv\n",
      " __pycache__\n",
      " python_dateutil-2.8.1.dist-info\n",
      " RUS.csv\n",
      " six-1.15.0.dist-info\n",
      " six.py\n",
      " SWE.csv\n",
      " THA.csv\n",
      " Untitled\n",
      "'Untitled (1)'\n",
      " USA.csv\n"
     ]
    }
   ],
   "source": [
    "!ls \"/content/drive/My Drive/Colab Notebooks\" # checking the content of the folder"
   ]
  },
  {
   "cell_type": "code",
   "execution_count": null,
   "metadata": {
    "id": "atAJT5tFKER3"
   },
   "outputs": [],
   "source": [
    "root = \"/content/drive/My Drive/Colab Notebooks\" "
   ]
  },
  {
   "cell_type": "code",
   "execution_count": null,
   "metadata": {
    "colab": {
     "base_uri": "https://localhost:8080/"
    },
    "id": "1InCSxccKER4",
    "outputId": "328793c4-4547-4b33-c9f6-72ec78941c2c"
   },
   "outputs": [
    {
     "name": "stdout",
     "output_type": "stream",
     "text": [
      "Requirement already satisfied: arrow in /usr/local/lib/python3.6/dist-packages (0.17.0)\n",
      "Requirement already satisfied: python-dateutil>=2.7.0 in /usr/local/lib/python3.6/dist-packages (from arrow) (2.8.1)\n",
      "Requirement already satisfied: six>=1.5 in /usr/local/lib/python3.6/dist-packages (from python-dateutil>=2.7.0->arrow) (1.15.0)\n"
     ]
    }
   ],
   "source": [
    "!pip install arrow"
   ]
  },
  {
   "cell_type": "code",
   "execution_count": null,
   "metadata": {
    "colab": {
     "base_uri": "https://localhost:8080/"
    },
    "id": "PQLa3I6Vcy3i",
    "outputId": "241e343e-1def-4faa-ed53-da166a9c0bdc"
   },
   "outputs": [
    {
     "name": "stdout",
     "output_type": "stream",
     "text": [
      "Requirement already satisfied: ipynb in /usr/local/lib/python3.6/dist-packages (0.5.1)\n"
     ]
    }
   ],
   "source": [
    "!pip install ipynb"
   ]
  },
  {
   "cell_type": "code",
   "execution_count": 2,
   "metadata": {},
   "outputs": [],
   "source": [
    "import numpy as np\n",
    "import pandas as pd\n",
    "import matplotlib.pyplot as plt\n",
    "import seaborn as sns\n",
    "import ipynb \n",
    "import os.path\n",
    "import statsmodels.api as sm\n",
    "from importlib import reload \n",
    "\n",
    "# other libraries here\n",
    "import requests\n",
    "import arrow"
   ]
  },
  {
   "cell_type": "code",
   "execution_count": null,
   "metadata": {
    "id": "igsItfXHck0V"
   },
   "outputs": [],
   "source": [
    "import granger_causality_functions\n",
    "reload(granger_causality_functions)\n",
    "from granger_causality_functions import scale_data, plot_time_series, plot_correlation_matrix, make_stationary\r\n",
    "from granger_causality_functions import grangers_causality_matrix, network_granger, granger_causality"
   ]
  },
  {
   "cell_type": "code",
   "execution_count": 6,
   "metadata": {},
   "outputs": [],
   "source": [
    "countries_of_interest = [\"USA\", \"CHE\", \"JPN\", \"CHN\"]"
   ]
  },
  {
   "cell_type": "code",
   "execution_count": null,
   "metadata": {},
   "outputs": [],
   "source": [
    "endpoint = \"https://covidapi.info/api/v1\" # endpoint that provides JHU data\n",
    "start_date = \"2020-01-1\"\n",
    "end_date = \"2020-12-01\" # yesterday\n",
    "dfs = {} # dfs of cumulative confirmed cases\n",
    "for country in countries_of_interest:\n",
    "\n",
    "    # re-download only data for country still not seen\n",
    "    if os.path.isfile(f\"data_covid/{country}.csv\"):\n",
    "        df = pd.read_csv(f\"data_covid/{country}.csv\")\n",
    "    else:\n",
    "        query = f\"{endpoint}/country/{country}/timeseries/{start_date}/{end_date}\"\n",
    "        res = requests.get(query).json()\n",
    "        df = pd.DataFrame(res[\"result\"])\n",
    "        df.index = pd.DatetimeIndex(df[\"date\"], tz=\"utc\")\n",
    "        df.drop(columns=[\"date\"])\n",
    "        df[\"date\"] = pd.to_datetime(df[\"date\"])\n",
    "        df[\"ts_in_secs\"] = df[\"date\"].astype(int)\n",
    "        df[\"new_confirmed\"] = df[\"confirmed\"].diff().fillna(0)\n",
    "        df.to_csv(f\"{root}/{country}.csv\")\n",
    "        \n",
    "    dfs[country] = df"
   ]
  },
  {
   "cell_type": "markdown",
   "metadata": {},
   "source": [
    "# China  <a class=\"anchor\" id=\"chinag\"></a>"
   ]
  },
  {
   "cell_type": "markdown",
   "metadata": {},
   "source": [
    "# USA  <a class=\"anchor\" id=\"usag\"></a>"
   ]
  },
  {
   "cell_type": "markdown",
   "metadata": {},
   "source": [
    "# Japan  <a class=\"anchor\" id=\"japang\"></a>"
   ]
  },
  {
   "cell_type": "code",
   "execution_count": 3,
   "metadata": {},
   "outputs": [],
   "source": [
    "country = 'japan'"
   ]
  },
  {
   "cell_type": "code",
   "execution_count": 5,
   "metadata": {},
   "outputs": [
    {
     "data": {
      "text/html": [
       "<div>\n",
       "<style scoped>\n",
       "    .dataframe tbody tr th:only-of-type {\n",
       "        vertical-align: middle;\n",
       "    }\n",
       "\n",
       "    .dataframe tbody tr th {\n",
       "        vertical-align: top;\n",
       "    }\n",
       "\n",
       "    .dataframe thead th {\n",
       "        text-align: right;\n",
       "    }\n",
       "</style>\n",
       "<table border=\"1\" class=\"dataframe\">\n",
       "  <thead>\n",
       "    <tr style=\"text-align: right;\">\n",
       "      <th></th>\n",
       "      <th>Date</th>\n",
       "      <th>EW</th>\n",
       "      <th>VW</th>\n",
       "    </tr>\n",
       "  </thead>\n",
       "  <tbody>\n",
       "    <tr>\n",
       "      <th>0</th>\n",
       "      <td>2020-01-03</td>\n",
       "      <td>-0.005942</td>\n",
       "      <td>-0.006846</td>\n",
       "    </tr>\n",
       "    <tr>\n",
       "      <th>1</th>\n",
       "      <td>2020-01-06</td>\n",
       "      <td>0.002206</td>\n",
       "      <td>0.003573</td>\n",
       "    </tr>\n",
       "    <tr>\n",
       "      <th>2</th>\n",
       "      <td>2020-01-07</td>\n",
       "      <td>0.001959</td>\n",
       "      <td>0.005275</td>\n",
       "    </tr>\n",
       "    <tr>\n",
       "      <th>3</th>\n",
       "      <td>2020-01-08</td>\n",
       "      <td>0.001305</td>\n",
       "      <td>-0.001305</td>\n",
       "    </tr>\n",
       "    <tr>\n",
       "      <th>4</th>\n",
       "      <td>2020-01-09</td>\n",
       "      <td>0.002878</td>\n",
       "      <td>0.004295</td>\n",
       "    </tr>\n",
       "  </tbody>\n",
       "</table>\n",
       "</div>"
      ],
      "text/plain": [
       "         Date        EW        VW\n",
       "0  2020-01-03 -0.005942 -0.006846\n",
       "1  2020-01-06  0.002206  0.003573\n",
       "2  2020-01-07  0.001959  0.005275\n",
       "3  2020-01-08  0.001305 -0.001305\n",
       "4  2020-01-09  0.002878  0.004295"
      ]
     },
     "execution_count": 5,
     "metadata": {},
     "output_type": "execute_result"
    }
   ],
   "source": [
    "df_portfolio = pd.read_csv(f'datasets/{country}_portfolio.csv')\n",
    "df_portfolio.head()"
   ]
  },
  {
   "cell_type": "code",
   "execution_count": null,
   "metadata": {},
   "outputs": [],
   "source": []
  },
  {
   "cell_type": "code",
   "execution_count": null,
   "metadata": {},
   "outputs": [],
   "source": []
  },
  {
   "cell_type": "code",
   "execution_count": null,
   "metadata": {},
   "outputs": [],
   "source": []
  },
  {
   "cell_type": "markdown",
   "metadata": {},
   "source": [
    "# Switzerland  <a class=\"anchor\" id=\"swissg\"></a>"
   ]
  },
  {
   "cell_type": "code",
   "execution_count": null,
   "metadata": {},
   "outputs": [],
   "source": []
  },
  {
   "cell_type": "code",
   "execution_count": null,
   "metadata": {},
   "outputs": [],
   "source": []
  }
 ],
 "metadata": {
  "kernelspec": {
   "display_name": "fbd",
   "language": "python",
   "name": "fbd"
  },
  "language_info": {
   "codemirror_mode": {
    "name": "ipython",
    "version": 3
   },
   "file_extension": ".py",
   "mimetype": "text/x-python",
   "name": "python",
   "nbconvert_exporter": "python",
   "pygments_lexer": "ipython3",
   "version": "3.8.5"
  }
 },
 "nbformat": 4,
 "nbformat_minor": 4
}
