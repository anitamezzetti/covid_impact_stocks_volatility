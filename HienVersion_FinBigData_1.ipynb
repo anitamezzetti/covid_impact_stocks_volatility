{
  "nbformat": 4,
  "nbformat_minor": 0,
  "metadata": {
    "colab": {
      "name": "HienVersion_FinBigData_1.ipynb",
      "provenance": [],
      "collapsed_sections": [],
      "toc_visible": true,
      "authorship_tag": "ABX9TyPD8iyKp7dvNSionCGoiY5c",
      "include_colab_link": true
    },
    "kernelspec": {
      "name": "python3",
      "display_name": "Python 3"
    }
  },
  "cells": [
    {
      "cell_type": "markdown",
      "metadata": {
        "id": "view-in-github",
        "colab_type": "text"
      },
      "source": [
        "<a href=\"https://colab.research.google.com/github/anitamezzetti/financial_big_data/blob/main/HienVersion_FinBigData_1.ipynb\" target=\"_parent\"><img src=\"https://colab.research.google.com/assets/colab-badge.svg\" alt=\"Open In Colab\"/></a>"
      ]
    },
    {
      "cell_type": "code",
      "metadata": {
        "id": "itomqEMlBhuX"
      },
      "source": [
        "student1 = \"Anita Mezzetti\"\n",
        "student2 = \"Hien Lê\""
      ],
      "execution_count": 1,
      "outputs": []
    },
    {
      "cell_type": "markdown",
      "metadata": {
        "id": "aJFZbKn-CF9T"
      },
      "source": [
        "Complementary stuff:\n",
        "* Drive Folder to save data, notebooks and models\n",
        "\n",
        "Note: project has been linked to [Github](https://github.com/anitamezzetti/financial_big_data)!"
      ]
    },
    {
      "cell_type": "code",
      "metadata": {
        "colab": {
          "base_uri": "https://localhost:8080/"
        },
        "id": "0lGv-gIcB09N",
        "outputId": "cb13d7ca-7b2d-4096-9423-7a6c6d624078"
      },
      "source": [
        "from google.colab import drive\n",
        "drive.mount('/content/drive') # make sure to add the .ipynb files to the Colab Notebooks folder first if not already done"
      ],
      "execution_count": 2,
      "outputs": [
        {
          "output_type": "stream",
          "text": [
            "Mounted at /content/drive\n"
          ],
          "name": "stdout"
        }
      ]
    },
    {
      "cell_type": "code",
      "metadata": {
        "colab": {
          "base_uri": "https://localhost:8080/"
        },
        "id": "J54RdKYOB5qo",
        "outputId": "425832d7-1ded-4581-d2fd-d1a8fd93594f"
      },
      "source": [
        "!ls \"/content/drive/My Drive/Colab Notebooks\" # checking the content of the folder"
      ],
      "execution_count": 3,
      "outputs": [
        {
          "output_type": "stream",
          "text": [
            "FinBigData_1.ipynb\n"
          ],
          "name": "stdout"
        }
      ]
    },
    {
      "cell_type": "code",
      "metadata": {
        "id": "8rmJFUxjCBbF"
      },
      "source": [
        "root = \"/content/drive/My Drive/Colab Notebooks\" # define name of folder"
      ],
      "execution_count": 4,
      "outputs": []
    },
    {
      "cell_type": "markdown",
      "metadata": {
        "id": "mM8QupSiDdii"
      },
      "source": [
        "### Main part"
      ]
    },
    {
      "cell_type": "code",
      "metadata": {
        "colab": {
          "base_uri": "https://localhost:8080/"
        },
        "id": "AkkeYA4eSeeu",
        "outputId": "1c679a0a-b1de-4ffb-c7d3-5e1593b39fd0"
      },
      "source": [
        "!pip install arrow"
      ],
      "execution_count": 8,
      "outputs": [
        {
          "output_type": "stream",
          "text": [
            "Collecting arrow\n",
            "\u001b[?25l  Downloading https://files.pythonhosted.org/packages/ca/bc/ebc1afb3c54377e128a01024c006f983d03ee124bc52392b78ba98c421b8/arrow-0.17.0-py2.py3-none-any.whl (50kB)\n",
            "\r\u001b[K     |██████▌                         | 10kB 18.0MB/s eta 0:00:01\r\u001b[K     |█████████████                   | 20kB 22.4MB/s eta 0:00:01\r\u001b[K     |███████████████████▍            | 30kB 12.5MB/s eta 0:00:01\r\u001b[K     |█████████████████████████▉      | 40kB 8.1MB/s eta 0:00:01\r\u001b[K     |████████████████████████████████| 51kB 2.5MB/s \n",
            "\u001b[?25hRequirement already satisfied: python-dateutil>=2.7.0 in /usr/local/lib/python3.6/dist-packages (from arrow) (2.8.1)\n",
            "Requirement already satisfied: six>=1.5 in /usr/local/lib/python3.6/dist-packages (from python-dateutil>=2.7.0->arrow) (1.15.0)\n",
            "Installing collected packages: arrow\n",
            "Successfully installed arrow-0.17.0\n"
          ],
          "name": "stdout"
        }
      ]
    },
    {
      "cell_type": "code",
      "metadata": {
        "id": "qWn0DHXKCM2X"
      },
      "source": [
        "import numpy as np\n",
        "import pandas as pd\n",
        "import matplotlib.pyplot as plt\n",
        "\n",
        "# other libraries here\n",
        "import requests\n",
        "import arrow"
      ],
      "execution_count": 9,
      "outputs": []
    },
    {
      "cell_type": "code",
      "metadata": {
        "id": "x3Uc04dfSBbT"
      },
      "source": [
        "# The following snippet gets data for the 4 countries from a proxy API, but it seems that the database in this API is not up-to-date\n",
        "# jh_data = requests.get('https://covid19api.herokuapp.com/confirmed')\n",
        "\n",
        "# res_dict = jh_data.json()[\"locations\"]\n",
        "# df_res = pd.json_normalize(res_dict)\n",
        "# df_res = df_res.drop(columns=[\"country_code\", \"latest\", \"province\", \"coordinates.latitude\", \"coordinates.longitude\"])\n",
        "\n",
        "# countries_of_interest = [\"US\", \"Switzerland\", \"Japan\", \"China\"]\n",
        "\n",
        "# df_china = df_res[df_res.country == \"China\"].set_index(\"country\")\n",
        "# df_china = pd.DataFrame(df_china.sum(axis=0), columns=[\"China\"]).T\n",
        "\n",
        "# df = df_res[df_res.country.isin(countries_of_interest[:3])].set_index(\"country\")\n",
        "# df = pd.concat([df, df_china])"
      ],
      "execution_count": null,
      "outputs": []
    },
    {
      "cell_type": "code",
      "metadata": {
        "id": "RRQc9VODCD1y"
      },
      "source": [
        "countries_of_interest = [\"USA\", \"CHE\", \"JPN\", \"CHN\"]\n",
        "\n",
        "endpoint = \"https://covidapi.info/api/v1\" # endpoint that provides JHU data\n",
        "start_date = \"2020-02-25\"\n",
        "end_date = arrow.utcnow().shift(days=-1).format(\"YYYY-MM-DD\") # yesterday\n",
        "dfs = {}\n",
        "for country in countries_of_interest:\n",
        "  query = f\"{endpoint}/country/{country}/timeseries/{start_date}/{end_date}\"\n",
        "  res = requests.get(query).json()\n",
        "  df = pd.DataFrame(res[\"result\"])\n",
        "  df.index = df[\"date\"]\n",
        "  df.to_csv(f\"{root}/{country}.csv\")\n",
        "  dfs[country] = df"
      ],
      "execution_count": 32,
      "outputs": []
    },
    {
      "cell_type": "code",
      "metadata": {
        "id": "Rm2FVpbqMWIu",
        "colab": {
          "base_uri": "https://localhost:8080/",
          "height": 455
        },
        "outputId": "a2876d6f-9e98-4bd3-d5f9-3f28402412d8"
      },
      "source": [
        "dfs[\"JPN\"]"
      ],
      "execution_count": 34,
      "outputs": [
        {
          "output_type": "execute_result",
          "data": {
            "text/html": [
              "<div>\n",
              "<style scoped>\n",
              "    .dataframe tbody tr th:only-of-type {\n",
              "        vertical-align: middle;\n",
              "    }\n",
              "\n",
              "    .dataframe tbody tr th {\n",
              "        vertical-align: top;\n",
              "    }\n",
              "\n",
              "    .dataframe thead th {\n",
              "        text-align: right;\n",
              "    }\n",
              "</style>\n",
              "<table border=\"1\" class=\"dataframe\">\n",
              "  <thead>\n",
              "    <tr style=\"text-align: right;\">\n",
              "      <th></th>\n",
              "      <th>confirmed</th>\n",
              "      <th>date</th>\n",
              "      <th>deaths</th>\n",
              "      <th>recovered</th>\n",
              "    </tr>\n",
              "    <tr>\n",
              "      <th>date</th>\n",
              "      <th></th>\n",
              "      <th></th>\n",
              "      <th></th>\n",
              "      <th></th>\n",
              "    </tr>\n",
              "  </thead>\n",
              "  <tbody>\n",
              "    <tr>\n",
              "      <th>2020-02-25</th>\n",
              "      <td>173</td>\n",
              "      <td>2020-02-25</td>\n",
              "      <td>3</td>\n",
              "      <td>22</td>\n",
              "    </tr>\n",
              "    <tr>\n",
              "      <th>2020-02-26</th>\n",
              "      <td>192</td>\n",
              "      <td>2020-02-26</td>\n",
              "      <td>3</td>\n",
              "      <td>22</td>\n",
              "    </tr>\n",
              "    <tr>\n",
              "      <th>2020-02-27</th>\n",
              "      <td>218</td>\n",
              "      <td>2020-02-27</td>\n",
              "      <td>4</td>\n",
              "      <td>22</td>\n",
              "    </tr>\n",
              "    <tr>\n",
              "      <th>2020-02-28</th>\n",
              "      <td>236</td>\n",
              "      <td>2020-02-28</td>\n",
              "      <td>5</td>\n",
              "      <td>22</td>\n",
              "    </tr>\n",
              "    <tr>\n",
              "      <th>2020-02-29</th>\n",
              "      <td>245</td>\n",
              "      <td>2020-02-29</td>\n",
              "      <td>6</td>\n",
              "      <td>32</td>\n",
              "    </tr>\n",
              "    <tr>\n",
              "      <th>...</th>\n",
              "      <td>...</td>\n",
              "      <td>...</td>\n",
              "      <td>...</td>\n",
              "      <td>...</td>\n",
              "    </tr>\n",
              "    <tr>\n",
              "      <th>2020-11-29</th>\n",
              "      <td>147515</td>\n",
              "      <td>2020-11-29</td>\n",
              "      <td>2057</td>\n",
              "      <td>121735</td>\n",
              "    </tr>\n",
              "    <tr>\n",
              "      <th>2020-11-30</th>\n",
              "      <td>148962</td>\n",
              "      <td>2020-11-30</td>\n",
              "      <td>2076</td>\n",
              "      <td>127289</td>\n",
              "    </tr>\n",
              "    <tr>\n",
              "      <th>2020-12-01</th>\n",
              "      <td>150976</td>\n",
              "      <td>2020-12-01</td>\n",
              "      <td>2109</td>\n",
              "      <td>125304</td>\n",
              "    </tr>\n",
              "    <tr>\n",
              "      <th>2020-12-02</th>\n",
              "      <td>153432</td>\n",
              "      <td>2020-12-02</td>\n",
              "      <td>2141</td>\n",
              "      <td>127148</td>\n",
              "    </tr>\n",
              "    <tr>\n",
              "      <th>2020-12-03</th>\n",
              "      <td>155938</td>\n",
              "      <td>2020-12-03</td>\n",
              "      <td>2174</td>\n",
              "      <td>129085</td>\n",
              "    </tr>\n",
              "  </tbody>\n",
              "</table>\n",
              "<p>283 rows × 4 columns</p>\n",
              "</div>"
            ],
            "text/plain": [
              "            confirmed        date  deaths  recovered\n",
              "date                                                \n",
              "2020-02-25        173  2020-02-25       3         22\n",
              "2020-02-26        192  2020-02-26       3         22\n",
              "2020-02-27        218  2020-02-27       4         22\n",
              "2020-02-28        236  2020-02-28       5         22\n",
              "2020-02-29        245  2020-02-29       6         32\n",
              "...               ...         ...     ...        ...\n",
              "2020-11-29     147515  2020-11-29    2057     121735\n",
              "2020-11-30     148962  2020-11-30    2076     127289\n",
              "2020-12-01     150976  2020-12-01    2109     125304\n",
              "2020-12-02     153432  2020-12-02    2141     127148\n",
              "2020-12-03     155938  2020-12-03    2174     129085\n",
              "\n",
              "[283 rows x 4 columns]"
            ]
          },
          "metadata": {
            "tags": []
          },
          "execution_count": 34
        }
      ]
    },
    {
      "cell_type": "code",
      "metadata": {
        "id": "T9gfL995ba10"
      },
      "source": [
        ""
      ],
      "execution_count": null,
      "outputs": []
    }
  ]
}